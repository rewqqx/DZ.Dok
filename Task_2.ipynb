{
 "cells": [
  {
   "cell_type": "code",
   "execution_count": 1,
   "metadata": {},
   "outputs": [],
   "source": [
    "import numpy as np\n",
    "import scipy as sp\n",
    "import matplotlib.pyplot as plt\n",
    "import seaborn as sns\n",
    "\n",
    "%matplotlib inline"
   ]
  },
  {
   "cell_type": "markdown",
   "metadata": {},
   "source": [
    "# 1. Работа с массивами NumPy"
   ]
  },
  {
   "cell_type": "markdown",
   "metadata": {},
   "source": [
    "**N. Все упражнения ниже нужно делать без использования циклов Python**\n",
    "\n",
    "**1.** Cоздать вектор\n",
    "\n",
    "$$(2, \\frac{2^2}{2}, \\ldots, \\frac{2^{20}}{20})$$\n",
    "\n",
    "Можно использовать функции [np.arange()](http://docs.scipy.org/doc/numpy/reference/generated/numpy.arange.html), [np.ones()](http://docs.scipy.org/doc/numpy/reference/generated/numpy.ones.html)"
   ]
  },
  {
   "cell_type": "code",
   "execution_count": 2,
   "metadata": {},
   "outputs": [],
   "source": [
    "vec = np.arange(1,21)\n",
    "vec_2 = 2**vec.copy()\n",
    "final = vec_2/vec\n",
    "print(final)"
   ]
  },
  {
   "cell_type": "markdown",
   "metadata": {},
   "source": [
    "**2.** Посчитать:\n",
    "\n",
    "$$\\sum\\limits_{i=0}^{5}{0.1^{3i}0.2^{4i}}$$\n"
   ]
  },
  {
   "cell_type": "code",
   "execution_count": 3,
   "metadata": {},
   "outputs": [],
   "source": [
    "vec = np.arange(0, 6)\n",
    "vec_1 = 0.1 ** (3*vec.copy())\n",
    "vec_2 = 0.2 ** (4*vec.copy())\n",
    "final = np.dot(vec_1, vec_2)\n",
    "print(final)"
   ]
  },
  {
   "cell_type": "markdown",
   "metadata": {},
   "source": [
    "**3.** Создать нулевую матрицe $8 \\times 8$, и заполнить её единицами в шахматном порядке."
   ]
  },
  {
   "cell_type": "code",
   "execution_count": 4,
   "metadata": {},
   "outputs": [],
   "source": [
    "matrix = np.zeros((8,8))\n",
    "matrix[1::2, ::2] = 1\n",
    "matrix[::2, 1::2] = 1\n",
    "\n",
    "print(matrix)"
   ]
  },
  {
   "cell_type": "markdown",
   "metadata": {},
   "source": [
    "**4.** Есть 5 точек в декартовой системе координат (в виде матрицы $X$ размерностью $5 \\times 2$), сконвертируйте эти точки в полярную систему координат."
   ]
  },
  {
   "cell_type": "code",
   "execution_count": 5,
   "metadata": {},
   "outputs": [],
   "source": [
    "X = np.random.random((5, 2))\n",
    "x = X[:, 0]\n",
    "y = X[:, 1]\n",
    "\n",
    "phi = np.arctan(y.copy()/x.copy())\n",
    "r = x.copy()/np.cos(phi.copy())\n",
    "\n",
    "Polar = np.reshape(np.concatenate((phi, r)), (5,2), order='F')\n",
    "print(Polar)\n",
    "## your code"
   ]
  },
  {
   "cell_type": "markdown",
   "metadata": {},
   "source": [
    "**5.** Найдите индексы максимального элемента в случайной матрице $10 \\times 10$.\n",
    "\n",
    "Cм. [np.argmax()](http://docs.scipy.org/doc/numpy/reference/generated/numpy.argmax.html)."
   ]
  },
  {
   "cell_type": "code",
   "execution_count": 6,
   "metadata": {},
   "outputs": [],
   "source": [
    "X = np.random.random((10, 10))\n",
    "max = np.argmax(X)\n",
    "y_vec = round(np.around((max-5)/10))\n",
    "x_vec = max % 10\n",
    "print(x_vec, y_vec)\n",
    "\n",
    "## your code"
   ]
  },
  {
   "cell_type": "markdown",
   "metadata": {},
   "source": [
    "**6.** Есть 10 точек ($X$) и ещё одна ($y$). Найти в $X$ ближайшую к $y$ точку."
   ]
  },
  {
   "cell_type": "code",
   "execution_count": 7,
   "metadata": {},
   "outputs": [],
   "source": [
    "X = np.random.random((10, 2))\n",
    "y = np.random.random((1, 2))\n",
    "\n",
    "vec_xy = X.copy() - y.copy()\n",
    "dist = np.sqrt(vec_xy[:, 0].copy()**2 + vec_xy[:, 1].copy()**2)\n",
    "index = np.argmin(dist)\n",
    "print(X[index])\n",
    "## your code"
   ]
  },
  {
   "cell_type": "markdown",
   "metadata": {},
   "source": [
    "**7.** Дана функция:\n",
    "\n",
    "$$\n",
    " \\begin{cases}\n",
    "    x^2 + 2x + 6, & x < 0  \\\\\n",
    "    x + 6, & 0 \\le x \\le 2 \\\\\n",
    "    x^2 + 4x - 4, & x \\ge 2\n",
    " \\end{cases}\n",
    "$$\n",
    "\n",
    "Постройте массив из её значений на  $-3 \\le x \\le 3$."
   ]
  },
  {
   "cell_type": "code",
   "execution_count": 8,
   "metadata": {},
   "outputs": [],
   "source": [
    "vec = np.arange(-3,4)\n",
    "vec_1 = vec[np.where(vec < 0)].copy()\n",
    "vec_2 = vec[np.where(vec <= 2)][len(vec_1):]\n",
    "vec_3 = vec[np.where(vec > 2)]\n",
    "\n",
    "res_1 = vec_1 ** 2 + 2 * vec_1 + 6\n",
    "res_2 = vec_2 + 6\n",
    "res_3 = vec_3 ** 2 + 4 * vec_3 - 4\n",
    "\n",
    "result = np.concatenate((res_1, res_2, res_3))\n",
    "\n",
    "print(result)\n",
    "## your code"
   ]
  },
  {
   "cell_type": "markdown",
   "metadata": {},
   "source": [
    "**8.** Из каждого элемента матрицы вычесть среднее арифметическое от всех элементов в соответствующей строке (после чего среднее значение каждой строки должно равняться нулю).\n",
    "\n",
    "Cм. [np.mean()](http://docs.scipy.org/doc/numpy/reference/generated/numpy.mean.html)."
   ]
  },
  {
   "cell_type": "code",
   "execution_count": 9,
   "metadata": {},
   "outputs": [],
   "source": [
    "X = np.random.random((10, 10))\n",
    "vec = np.mean(X, axis=1)\n",
    "matrix = np.reshape(np.tile(vec, 10), (10, 10)).transpose()\n",
    "\n",
    "result = X.copy() - matrix.copy()\n",
    "\n",
    "print(result)\n",
    "print(np.mean(result, axis=1))\n",
    "\n",
    "## your code"
   ]
  },
  {
   "cell_type": "markdown",
   "metadata": {},
   "source": [
    "**9.** Есть массив из 1000 чисел, полученных из генератора случайных чисел, имеющий нормальное распределение. Посчитайте выборочное среднее и выборочную дисперсию. "
   ]
  },
  {
   "cell_type": "code",
   "execution_count": 10,
   "metadata": {},
   "outputs": [],
   "source": [
    "X = np.random.normal(loc=5, scale=2., size=1000)\n",
    "sr_v = np.sum(X.copy()) / len(X)\n",
    "disp_v = np.sqrt(np.sum((X.copy() - sr_v) ** 2) / len(X))\n",
    "\n",
    "print(sr_v)\n",
    "print(disp_v)"
   ]
  },
  {
   "cell_type": "markdown",
   "metadata": {},
   "source": [
    "**10.** Создать матрицу:\n",
    "\n",
    "$$\n",
    "\\begin{pmatrix}\n",
    "0 & 1 & 2 & 3 & 4 \\\\\n",
    "1 & 2 & 3 & 4 & 0 \\\\\n",
    "2 & 3 & 4 & 0 & 1 \\\\\n",
    "3 & 4 & 0 & 1 & 2 \\\\\n",
    "4 & 0 & 1 & 2 & 3\n",
    "\\end{pmatrix}\n",
    "$$"
   ]
  },
  {
   "cell_type": "code",
   "execution_count": 11,
   "metadata": {},
   "outputs": [],
   "source": [
    "x = np.arange(0, 5)\n",
    "x_mat = np.tile(x, 5)\n",
    "\n",
    "x_mat = np.reshape(x_mat, (5,5))\n",
    "x_mat_t = x_mat.copy().transpose()\n",
    "\n",
    "result = (x_mat + x_mat_t) % 5\n",
    "\n",
    "print(result)\n",
    "## your code"
   ]
  },
  {
   "cell_type": "markdown",
   "metadata": {},
   "source": [
    "**11.** Есть следующий алгоритм семплинирования, на вход функции подается вектор из целых положительных чисел и число семплов."
   ]
  },
  {
   "cell_type": "code",
   "execution_count": 12,
   "metadata": {},
   "outputs": [
    {
     "data": {
      "text/plain": [
       "[0, 0, 4, 0, 0]"
      ]
     },
     "execution_count": 12,
     "metadata": {},
     "output_type": "execute_result"
    }
   ],
   "source": [
    "def sample(x, c):\n",
    "    assert len(x) > 0\n",
    "    \n",
    "    s = np.sum(x)\n",
    "    res = []\n",
    "    for _ in range(c):\n",
    "        val = s * np.random.random()\n",
    "        cur, idx = 0, 0        \n",
    "        while cur + x[idx] <= val:\n",
    "            cur += x[idx]\n",
    "            idx += 1\n",
    "            \n",
    "        res.append(idx)\n",
    "    return res\n",
    "\n",
    "            \n",
    "sample([50, 3, 1, 7, 20], 5)    "
   ]
  },
  {
   "cell_type": "markdown",
   "metadata": {},
   "source": [
    "Реализуйте данный алгоритм более оптимальным способом, без использования циклов."
   ]
  },
  {
   "cell_type": "code",
   "execution_count": 13,
   "metadata": {},
   "outputs": [],
   "source": [
    "def sample(x, c):\n",
    "    assert len(x) > 0\n",
    "\n",
    "    n = len(x)\n",
    "    s = np.sum(x)\n",
    "\n",
    "    random_vec = s * np.random.random(c)\n",
    "    triangle_mat = np.tri(n)\n",
    "    offset_vec = np.dot(x[::-1].copy(), triangle_mat.copy())[::-1]\n",
    "\n",
    "    offset_mat = np.reshape(np.tile(offset_vec, c), (c, n))\n",
    "    random_mat = np.reshape(np.tile(random_vec, n), (n, c)).transpose()\n",
    "\n",
    "    offset_mat -= random_mat\n",
    "    result = np.sum(offset_mat < 0, axis=1)\n",
    "    return result\n",
    "\n",
    "\n",
    "\n",
    "print(sample([50, 3, 1, 7, 20], 5))\n",
    "\n",
    "## your code"
   ]
  }
 ],
 "metadata": {
  "kernelspec": {
   "display_name": "Python 3",
   "language": "python",
   "name": "python3"
  },
  "language_info": {
   "codemirror_mode": {
    "name": "ipython",
    "version": 3
   },
   "file_extension": ".py",
   "mimetype": "text/x-python",
   "name": "python",
   "nbconvert_exporter": "python",
   "pygments_lexer": "ipython3",
   "version": "3.6.9"
  }
 },
 "nbformat": 4,
 "nbformat_minor": 4
}