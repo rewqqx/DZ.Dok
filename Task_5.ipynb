{
 "cells": [
  {
   "cell_type": "markdown",
   "metadata": {},
   "source": [
    "## Часть 1\n",
    "Напишите скрипт, который скачивает  сообщения с Телеграм-канала https://t.me/Sputnik_results . Сохраните сообщения в формате по вашему выбору (.csv, .jsonl, sqlite, parquet, и т.д.). Откройте с помощью Pandas или Arrow, постройте график числа сообщений в зависимости от даты. "
   ]
  },
  {
   "cell_type": "code",
   "execution_count": 5,
   "outputs": [],
   "source": [
    "import telethon\n",
    "import json\n",
    "import pandas as pd\n",
    "from datetime import datetime\n"
   ],
   "metadata": {
    "collapsed": false,
    "pycharm": {
     "name": "#%%\n"
    }
   }
  },
  {
   "cell_type": "code",
   "execution_count": 71,
   "outputs": [],
   "source": [
    "chat = \"Sputnik_results\"\n",
    "await client.start()\n",
    "file = open(\"data.json\", mode='w', encoding='utf8')\n",
    "dicts = []"
   ],
   "metadata": {
    "collapsed": false,
    "pycharm": {
     "name": "#%%\n"
    }
   }
  },
  {
   "cell_type": "code",
   "execution_count": 72,
   "outputs": [],
   "source": [
    "async for messages in client.iter_messages(chat):\n",
    "    dicts.append({\"id\": messages.id, \"text\": messages.text, \"date\": messages.date})\n",
    "\n",
    "json.dump(dicts, file, ensure_ascii=False, indent=6, default=str)\n",
    "\n",
    "\n",
    "file.close()\n"
   ],
   "metadata": {
    "collapsed": false,
    "pycharm": {
     "name": "#%%\n"
    }
   }
  },
  {
   "cell_type": "code",
   "execution_count": 7,
   "outputs": [],
   "source": [
    "with open(\"data.json\", encoding='utf8') as file:\n",
    "    templates = json.load(file)\n",
    "\n"
   ],
   "metadata": {
    "collapsed": false,
    "pycharm": {
     "name": "#%%\n"
    }
   }
  },
  {
   "cell_type": "code",
   "execution_count": 8,
   "outputs": [
    {
     "name": "stdout",
     "output_type": "stream",
     "text": [
      "           date  size\n",
      "0    2020-12-08     1\n",
      "1    2020-12-09   214\n",
      "2    2020-12-10   107\n",
      "3    2020-12-11    17\n",
      "4    2020-12-12     5\n",
      "..          ...   ...\n",
      "371  2021-12-14    14\n",
      "372  2021-12-15    15\n",
      "373  2021-12-16    20\n",
      "374  2021-12-17    16\n",
      "375  2021-12-18    15\n",
      "\n",
      "[376 rows x 2 columns]\n"
     ]
    }
   ],
   "source": [
    "\n",
    "df = pd.DataFrame(templates, columns = ['id', 'text', 'date'])\n",
    "df2 = pd.DataFrame(pd.to_datetime(df['date']).dt.date)\n",
    "plot_data = df2.groupby(by='date', axis=0, as_index=False).size()\n",
    "print(plot_data)"
   ],
   "metadata": {
    "collapsed": false,
    "pycharm": {
     "name": "#%%\n"
    }
   }
  },
  {
   "cell_type": "code",
   "execution_count": 9,
   "outputs": [
    {
     "data": {
      "text/plain": "[<matplotlib.lines.Line2D at 0x24b40133f10>]"
     },
     "execution_count": 9,
     "metadata": {},
     "output_type": "execute_result"
    },
    {
     "data": {
      "text/plain": "<Figure size 432x288 with 1 Axes>",
      "image/png": "[encoded data removed]"
     },
     "metadata": {
      "needs_background": "light"
     },
     "output_type": "display_data"
    }
   ],
   "source": [
    "import matplotlib.pyplot as plt\n",
    "\n",
    "plt.plot(plot_data['date'], plot_data['size'])"
   ],
   "metadata": {
    "collapsed": false,
    "pycharm": {
     "name": "#%%\n"
    }
   }
  },
  {
   "cell_type": "markdown",
   "source": [
    "### Часть 2\n",
    "1.Напишите функции для извлечения данных из сообщений:\n",
    "   - пол участника\n",
    "   - возраст участника\n",
    "\n",
    "   Постройте диаграммы для визуализации. \n",
    "\n",
    "2.Реализуйте какой-либо анализ этих данных на ваше усмотрение. Например их можно кластеризовать и интерпретировать кластеры, или попробовать выделить статистику по среднему количеству антител в зависимости от возраста, или посчитать количество заболевших после вакцинации. Обязательная визуализация. "
   ],
   "metadata": {
    "collapsed": false
   }
  },
  {
   "cell_type": "code",
   "execution_count": 10,
   "metadata": {},
   "outputs": [],
   "source": [
    "import re\n",
    "\n",
    "def test(df):\n",
    "    result = []\n",
    "    for message in df['text']:\n",
    "        if type(message) is str and len(message) > 0:\n",
    "            if message[0] == 'Ж' or message[0] == 'М':\n",
    "                tmp = re.findall(r'[^]{0,1}[\\n]{0,1}[МЖмж][.,\\s(]{0,3}[1-9]{1}[0-9]{1}', message)\n",
    "                for element in tmp:\n",
    "                    if element[0] in ('Ж', 'М', 'м', 'ж') and int(element[-2:]) >= 18:\n",
    "                        if element[0] in ('Ж', 'ж'):\n",
    "                            result.append(['Ж', int(element[-2:])])\n",
    "                        else:\n",
    "                            result.append(['М', int(element[-2:])])\n",
    "    return result\n"
   ]
  },
  {
   "cell_type": "code",
   "execution_count": 11,
   "outputs": [],
   "source": [
    "dict = test(df)\n",
    "df_sex_age = pd.DataFrame(dict, columns=('sex', 'age'))\n",
    "# print(df_sex_age)\n",
    "df_sex = df_sex_age.groupby(by='sex', axis=0, as_index=False).size()\n",
    "# print(df_sex)\n",
    "df_age = df_sex_age.groupby(by='age', axis=0, as_index=False).size()\n",
    "# print(df_age)"
   ],
   "metadata": {
    "collapsed": false,
    "pycharm": {
     "name": "#%%\n"
    }
   }
  },
  {
   "cell_type": "code",
   "execution_count": 12,
   "outputs": [
    {
     "data": {
      "text/plain": "(-1.112680501413499,\n 1.1006038741672683,\n -1.119632060032795,\n 1.1140386644486642)"
     },
     "execution_count": 12,
     "metadata": {},
     "output_type": "execute_result"
    },
    {
     "data": {
      "text/plain": "<Figure size 432x288 with 1 Axes>",
      "image/png": "[encoded data removed]"
     },
     "metadata": {},
     "output_type": "display_data"
    }
   ],
   "source": [
    "fig, ax = plt.subplots()\n",
    "ax.pie(df_sex['size'], labels=df_sex['sex'])\n",
    "ax.axis(\"equal\")\n"
   ],
   "metadata": {
    "collapsed": false,
    "pycharm": {
     "name": "#%%\n"
    }
   }
  },
  {
   "cell_type": "code",
   "execution_count": 18,
   "outputs": [
    {
     "data": {
      "text/plain": "<BarContainer object of 77 artists>"
     },
     "execution_count": 18,
     "metadata": {},
     "output_type": "execute_result"
    },
    {
     "data": {
      "text/plain": "<Figure size 432x288 with 1 Axes>",
      "image/png": "[encoded data removed]"
     },
     "metadata": {
      "needs_background": "light"
     },
     "output_type": "display_data"
    }
   ],
   "source": [
    "plt.bar(df_age['age'], df_age['size'])"
   ],
   "metadata": {
    "collapsed": false,
    "pycharm": {
     "name": "#%%\n"
    }
   }
  },
  {
   "cell_type": "code",
   "execution_count": 43,
   "outputs": [],
   "source": [
    "def temperature(message):\n",
    "        sum = 0\n",
    "        if type(message) is str and len(message) > 0:\n",
    "            tmp = re.findall(r'3\\d[.,]\\d', message)\n",
    "            if len(tmp) > 0:\n",
    "                for element in tmp:\n",
    "                    if element[2] == ',':\n",
    "                        element = ('.').join(element.split(','))\n",
    "                    sum += float(element)\n",
    "                mean_t = sum / len(tmp)\n",
    "                return mean_t\n",
    "            else:\n",
    "                return 0\n",
    "\n",
    "def age(message):\n",
    "    if type(message) is str and len(message) > 0:\n",
    "        if message[0] == 'Ж' or message[0] == 'М':\n",
    "            tmp = re.findall(r'[^]{0,1}[\\n]{0,1}[МЖмж][.,\\s(]{0,3}[1-9]{1}[0-9]{1}', message)\n",
    "            for element in tmp:\n",
    "                if element[0] in ('Ж', 'М', 'м', 'ж') and int(element[-2:]) >= 18:\n",
    "                    return int(element[-2:])\n",
    "                else:\n",
    "                    return 0\n",
    "        else:\n",
    "            return 0\n",
    "    else:\n",
    "        return 0\n"
   ],
   "metadata": {
    "collapsed": false,
    "pycharm": {
     "name": "#%%\n"
    }
   }
  },
  {
   "cell_type": "code",
   "execution_count": 42,
   "outputs": [
    {
     "data": {
      "text/plain": "           id                                               text  \\\n0      136711  Это было плацебо, как выяснилось.\\nУже сделали...   \n1      136710  М 34\\n24.11.21 V1 Sputnik V: Общее недомогание...   \n2      136709  **Народные отчеты о вакцинации\\n\\n**⚠️ **ТОЛЬК...   \n3      136707  Ж 51 \\nПароксизмальная наджелудочковая тахикар...   \n4      136681                                                      \n...       ...                                                ...   \n30729       5                                               None   \n30730       4                                               None   \n30731       3                                               None   \n30732       2                                               None   \n30733       1                                               None   \n\n                            date  temperature  \n0      2021-12-18 16:00:01+00:00         36.9  \n1      2021-12-18 15:11:42+00:00          0.0  \n2      2021-12-18 15:00:02+00:00          0.0  \n3      2021-12-18 14:08:04+00:00          0.0  \n4      2021-12-18 13:43:39+00:00          NaN  \n...                          ...          ...  \n30729  2020-12-09 15:45:57+00:00          NaN  \n30730  2020-12-09 15:45:53+00:00          NaN  \n30731  2020-12-09 15:45:45+00:00          NaN  \n30732  2020-12-09 11:17:38+00:00          NaN  \n30733  2020-12-08 14:37:44+00:00          NaN  \n\n[30734 rows x 4 columns]",
      "text/html": "<div>\n<style scoped>\n    .dataframe tbody tr th:only-of-type {\n        vertical-align: middle;\n    }\n\n    .dataframe tbody tr th {\n        vertical-align: top;\n    }\n\n    .dataframe thead th {\n        text-align: right;\n    }\n</style>\n<table border=\"1\" class=\"dataframe\">\n  <thead>\n    <tr style=\"text-align: right;\">\n      <th></th>\n      <th>id</th>\n      <th>text</th>\n      <th>date</th>\n      <th>temperature</th>\n    </tr>\n  </thead>\n  <tbody>\n    <tr>\n      <th>0</th>\n      <td>136711</td>\n      <td>Это было плацебо, как выяснилось.\\nУже сделали...</td>\n      <td>2021-12-18 16:00:01+00:00</td>\n      <td>36.9</td>\n    </tr>\n    <tr>\n      <th>1</th>\n      <td>136710</td>\n      <td>М 34\\n24.11.21 V1 Sputnik V: Общее недомогание...</td>\n      <td>2021-12-18 15:11:42+00:00</td>\n      <td>0.0</td>\n    </tr>\n    <tr>\n      <th>2</th>\n      <td>136709</td>\n      <td>**Народные отчеты о вакцинации\\n\\n**⚠️ **ТОЛЬК...</td>\n      <td>2021-12-18 15:00:02+00:00</td>\n      <td>0.0</td>\n    </tr>\n    <tr>\n      <th>3</th>\n      <td>136707</td>\n      <td>Ж 51 \\nПароксизмальная наджелудочковая тахикар...</td>\n      <td>2021-12-18 14:08:04+00:00</td>\n      <td>0.0</td>\n    </tr>\n    <tr>\n      <th>4</th>\n      <td>136681</td>\n      <td></td>\n      <td>2021-12-18 13:43:39+00:00</td>\n      <td>NaN</td>\n    </tr>\n    <tr>\n      <th>...</th>\n      <td>...</td>\n      <td>...</td>\n      <td>...</td>\n      <td>...</td>\n    </tr>\n    <tr>\n      <th>30729</th>\n      <td>5</td>\n      <td>None</td>\n      <td>2020-12-09 15:45:57+00:00</td>\n      <td>NaN</td>\n    </tr>\n    <tr>\n      <th>30730</th>\n      <td>4</td>\n      <td>None</td>\n      <td>2020-12-09 15:45:53+00:00</td>\n      <td>NaN</td>\n    </tr>\n    <tr>\n      <th>30731</th>\n      <td>3</td>\n      <td>None</td>\n      <td>2020-12-09 15:45:45+00:00</td>\n      <td>NaN</td>\n    </tr>\n    <tr>\n      <th>30732</th>\n      <td>2</td>\n      <td>None</td>\n      <td>2020-12-09 11:17:38+00:00</td>\n      <td>NaN</td>\n    </tr>\n    <tr>\n      <th>30733</th>\n      <td>1</td>\n      <td>None</td>\n      <td>2020-12-08 14:37:44+00:00</td>\n      <td>NaN</td>\n    </tr>\n  </tbody>\n</table>\n<p>30734 rows × 4 columns</p>\n</div>"
     },
     "execution_count": 42,
     "metadata": {},
     "output_type": "execute_result"
    }
   ],
   "source": [
    "df['temperature'] = df.text.apply(lambda x: temperature(x))"
   ],
   "metadata": {
    "collapsed": false,
    "pycharm": {
     "name": "#%%\n"
    }
   }
  },
  {
   "cell_type": "markdown",
   "source": [
    "## Повышение температуры у людей 30+"
   ],
   "metadata": {
    "collapsed": false,
    "pycharm": {
     "name": "#%% md\n"
    }
   }
  },
  {
   "cell_type": "code",
   "execution_count": 46,
   "outputs": [
    {
     "data": {
      "text/plain": "<AxesSubplot:xlabel='age', ylabel='temperature'>"
     },
     "execution_count": 46,
     "metadata": {},
     "output_type": "execute_result"
    },
    {
     "data": {
      "text/plain": "<Figure size 432x288 with 1 Axes>",
      "image/png": "[encoded data removed]"
     },
     "metadata": {
      "needs_background": "light"
     },
     "output_type": "display_data"
    }
   ],
   "source": [
    "import seaborn as sns\n",
    "df['age'] = df.text.apply(lambda x: age(x))\n",
    "df = df.explode('age')\n",
    "df_choose = df[(df.temperature >= 35) & (df.age >= 30)][['temperature', 'age']]\n",
    "sns.violinplot(x='age', y='temperature', data = df_choose)"
   ],
   "metadata": {
    "collapsed": false,
    "pycharm": {
     "name": "#%%\n"
    }
   }
  }
 ],
 "metadata": {
  "kernelspec": {
   "display_name": "Python 3",
   "language": "python",
   "name": "python3"
  },
  "language_info": {
   "codemirror_mode": {
    "name": "ipython",
    "version": 3
   },
   "file_extension": ".py",
   "mimetype": "text/x-python",
   "name": "python",
   "nbconvert_exporter": "python",
   "pygments_lexer": "ipython3",
   "version": "3.6.9"
  }
 },
 "nbformat": 4,
 "nbformat_minor": 4
}